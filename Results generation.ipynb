{
 "cells": [
  {
   "cell_type": "code",
   "execution_count": 1,
   "id": "8f3af252",
   "metadata": {},
   "outputs": [],
   "source": [
    "import os\n",
    "import torch\n",
    "import pandas as pd\n",
    "import cv2"
   ]
  },
  {
   "cell_type": "markdown",
   "id": "78185fef",
   "metadata": {},
   "source": [
    "Loading your yolov5 model - change path to your's model"
   ]
  },
  {
   "cell_type": "code",
   "execution_count": 335,
   "id": "185bdff1",
   "metadata": {},
   "outputs": [
    {
     "name": "stderr",
     "output_type": "stream",
     "text": [
      "Downloading: \"https://github.com/ultralytics/yolov5/archive/master.zip\" to C:\\Users\\xjack/.cache\\torch\\hub\\master.zip\n",
      "YOLOv5  2022-4-10 torch 1.11.0+cu113 CUDA:0 (GeForce GTX 960M, 4096MiB)\n",
      "\n",
      "Fusing layers... \n",
      "Model summary: 213 layers, 7015519 parameters, 0 gradients\n",
      "Adding AutoShape... \n"
     ]
    }
   ],
   "source": [
    "model = torch.hub.load('ultralytics/yolov5','custom', path='C:/Users/xjack/OneDrive/Pulpit/Magisterka sem 1/best_heavy-object.pt',force_reload=True)"
   ]
  },
  {
   "cell_type": "markdown",
   "id": "21cea823",
   "metadata": {},
   "source": [
    "Enter the path to images folder"
   ]
  },
  {
   "cell_type": "code",
   "execution_count": 466,
   "id": "389d65e5",
   "metadata": {},
   "outputs": [],
   "source": [
    "img_dir=\"C:/Users/xjack/OneDrive/Pulpit/Magisterka sem 1/data 2/PWAD/Activity_Picking_heavy_object/Vibek/sequence_1_left\""
   ]
  },
  {
   "cell_type": "markdown",
   "id": "518f5da8",
   "metadata": {},
   "source": [
    "Make /results directory if it doesn't exist"
   ]
  },
  {
   "cell_type": "code",
   "execution_count": 467,
   "id": "c237ea5f",
   "metadata": {},
   "outputs": [],
   "source": [
    "if (os.path.isdir(img_dir+\"/results\")==False):\n",
    "    os.mkdir(img_dir+\"/results\")"
   ]
  },
  {
   "cell_type": "markdown",
   "id": "bceaa839",
   "metadata": {},
   "source": [
    "Get the names of all files (images) in specific direction"
   ]
  },
  {
   "cell_type": "code",
   "execution_count": 468,
   "id": "cec46c86",
   "metadata": {},
   "outputs": [],
   "source": [
    "imgs_names = os.listdir(img_dir)\n",
    "if \"results\" in imgs_names:\n",
    "    del imgs_names[imgs_names.index(\"results\")]"
   ]
  },
  {
   "cell_type": "markdown",
   "id": "2f60f3fd",
   "metadata": {},
   "source": [
    "Get full paths of above listed files"
   ]
  },
  {
   "cell_type": "code",
   "execution_count": 469,
   "id": "45e99cec",
   "metadata": {
    "scrolled": true
   },
   "outputs": [],
   "source": [
    "imgs_paths=[]\n",
    "for image in imgs_names:\n",
    "    imgs_paths.append(img_dir+'/'+image)\n",
    "    "
   ]
  },
  {
   "cell_type": "markdown",
   "id": "44da26a2",
   "metadata": {},
   "source": [
    "Now you can store the results in one CSV file (A) or each result in seperate file (B):"
   ]
  },
  {
   "cell_type": "markdown",
   "id": "a94a9e53",
   "metadata": {},
   "source": [
    "A) Store results in ONE pandas dataframe (in format x1,y1,x2,y2...,xcenter,ycenter,object) - pixel cordinates"
   ]
  },
  {
   "cell_type": "code",
   "execution_count": 27,
   "id": "44d4a8bc",
   "metadata": {},
   "outputs": [
    {
     "name": "stdout",
     "output_type": "stream",
     "text": [
      "0\n",
      "100\n",
      "200\n",
      "300\n",
      "400\n",
      "700\n",
      "900\n"
     ]
    }
   ],
   "source": [
    "results_to_csv = pd.DataFrame(columns=[\"x1\",\"y1\",\"x2\",\"y2\",\"x3\",\"y3\",\"x4\",\"y4\",\"xc\",\"yc\",\"object\"])\n",
    "for i in range(0,len(imgs_names)):\n",
    "    results=model(imgs_paths[i])\n",
    "    for p in range(0,len(results.pandas().xyxy[0])):\n",
    "        results_to_csv = results_to_csv.append(pd.DataFrame({\"x1\":[results.pandas().xyxy[0].at[p,\"xmin\"]],\"y1\":[results.pandas().xyxy[0].at[p,\"ymin\"]],\"x2\":[results.pandas().xyxy[0].at[p,\"xmin\"]],\"y2\":[results.pandas().xyxy[0].at[p,\"ymax\"]],\"x3\":[results.pandas().xyxy[0].at[p,\"xmax\"]],\"y3\":[results.pandas().xyxy[0].at[p,\"ymin\"]],\"x4\":[results.pandas().xyxy[0].at[p,\"xmax\"]],\"y4\":[results.pandas().xyxy[0].at[p,\"ymax\"]],\"xc\":[0],\"yc\":[0],\"object\":[results.pandas().xyxy[0].at[p,\"name\"]]},index=[imgs_names[i]]))\n",
    "    results_to_csv.loc[imgs_names[i],\"xc\"]=(results_to_csv.loc[imgs_names[i],\"x1\"]+results_to_csv.loc[imgs_names[i],\"x3\"])/2\n",
    "    results_to_csv.loc[imgs_names[i],\"yc\"]=(results_to_csv.loc[imgs_names[i],\"y1\"]+results_to_csv.loc[imgs_names[i],\"y2\"])/2\n",
    "    if(i==0 or i==100 or i==200 or i==300 or i==400 or i==700 or i==900):\n",
    "        print(i) #just for checking the progress"
   ]
  },
  {
   "cell_type": "markdown",
   "id": "a25ea5d4",
   "metadata": {},
   "source": [
    "Change to normalized cordinates (scale to 0-1)"
   ]
  },
  {
   "cell_type": "code",
   "execution_count": 28,
   "id": "8d699483",
   "metadata": {},
   "outputs": [],
   "source": [
    "width = cv2.imread(imgs_paths[0]).shape[1] #assuming all images have identical dimensions\n",
    "height = cv2.imread(imgs_paths[0]).shape[0]\n",
    "results_to_csv.x1 = results_to_csv.x1/width\n",
    "results_to_csv.x2 = results_to_csv.x2/width\n",
    "results_to_csv.x3 = results_to_csv.x3/width\n",
    "results_to_csv.x4 = results_to_csv.x4/width\n",
    "results_to_csv.xc = results_to_csv.xc/width\n",
    "results_to_csv.y1 = results_to_csv.y1/height\n",
    "results_to_csv.y2 = results_to_csv.y2/height\n",
    "results_to_csv.y3 = results_to_csv.y3/height\n",
    "results_to_csv.y4 = results_to_csv.y4/height\n",
    "results_to_csv.yc = results_to_csv.yc/height"
   ]
  },
  {
   "cell_type": "markdown",
   "id": "b6d07cb9",
   "metadata": {},
   "source": [
    "Store the dataframe in file with: 1) image indexes and column names 2) just results 3) results+indexes"
   ]
  },
  {
   "cell_type": "code",
   "execution_count": 29,
   "id": "a8b33ad9",
   "metadata": {},
   "outputs": [],
   "source": [
    "results_to_csv.to_csv(path_or_buf = img_dir+\"/results/results_with_names_test.csv\" )"
   ]
  },
  {
   "cell_type": "code",
   "execution_count": 30,
   "id": "4a9e2d3d",
   "metadata": {},
   "outputs": [],
   "source": [
    "results_to_csv.to_csv(path_or_buf = img_dir+\"/results/results.csv\",index=False,header=False )"
   ]
  },
  {
   "cell_type": "code",
   "execution_count": 31,
   "id": "dffed37b",
   "metadata": {},
   "outputs": [],
   "source": [
    "results_to_csv.to_csv(path_or_buf = img_dir+\"/results/results_with index.csv\",index=True,header=False )"
   ]
  },
  {
   "cell_type": "markdown",
   "id": "29d0ad6d",
   "metadata": {},
   "source": [
    "B.1) Store results in seperate files - pixel cordinates"
   ]
  },
  {
   "cell_type": "code",
   "execution_count": 165,
   "id": "d326808c",
   "metadata": {},
   "outputs": [
    {
     "name": "stdout",
     "output_type": "stream",
     "text": [
      "0\n",
      "100\n",
      "200\n"
     ]
    }
   ],
   "source": [
    "for i in range(0,len(imgs_names)):\n",
    "    results_to_csv = pd.DataFrame(columns=[\"x1\",\"y1\",\"x2\",\"y2\",\"x3\",\"y3\",\"x4\",\"y4\",\"xc\",\"yc\",\"object\"])\n",
    "    results=model(imgs_paths[i])\n",
    "    for p in range(0,len(results.pandas().xyxy[0])):\n",
    "        results_to_csv = results_to_csv.append(pd.DataFrame({\"x1\":[results.pandas().xyxy[0].at[p,\"xmin\"]],\"y1\":[results.pandas().xyxy[0].at[p,\"ymin\"]],\"x2\":[results.pandas().xyxy[0].at[p,\"xmin\"]],\"y2\":[results.pandas().xyxy[0].at[p,\"ymax\"]],\"x3\":[results.pandas().xyxy[0].at[p,\"xmax\"]],\"y3\":[results.pandas().xyxy[0].at[p,\"ymin\"]],\"x4\":[results.pandas().xyxy[0].at[p,\"xmax\"]],\"y4\":[results.pandas().xyxy[0].at[p,\"ymax\"]],\"xc\":[0],\"yc\":[0],\"object\":[results.pandas().xyxy[0].at[p,\"name\"]]},index=[imgs_names[i]]))\n",
    "    results_to_csv.loc[imgs_names[i],\"xc\"]=(results_to_csv.loc[imgs_names[i],\"x1\"]+results_to_csv.loc[imgs_names[i],\"x3\"])/2\n",
    "    results_to_csv.loc[imgs_names[i],\"yc\"]=(results_to_csv.loc[imgs_names[i],\"y1\"]+results_to_csv.loc[imgs_names[i],\"y2\"])/2\n",
    "    results_to_csv.to_csv(path_or_buf = img_dir+\"/results/\"+imgs_names[i]+ \".csv\",index=False,header=False )\n",
    "    if(i==0 or i==100 or i==200 or i==300 or i==400 or i==700 or i==900):\n",
    "        print(i) #just for checking the progress"
   ]
  },
  {
   "cell_type": "markdown",
   "id": "0ccc4baf",
   "metadata": {},
   "source": [
    "B.2) Store results in seperate files - normalized cordinates (scale 0-1)"
   ]
  },
  {
   "cell_type": "code",
   "execution_count": 470,
   "id": "833e062c",
   "metadata": {},
   "outputs": [
    {
     "name": "stdout",
     "output_type": "stream",
     "text": [
      "0\n",
      "100\n",
      "200\n"
     ]
    }
   ],
   "source": [
    "width = cv2.imread(imgs_paths[0]).shape[1] #assuming all images have identical dimensions\n",
    "height = cv2.imread(imgs_paths[0]).shape[0]\n",
    "for i in range(0,len(imgs_names)):\n",
    "    results_to_csv = pd.DataFrame(columns=[\"x1\",\"y1\",\"x2\",\"y2\",\"x3\",\"y3\",\"x4\",\"y4\",\"xc\",\"yc\",\"object\"])\n",
    "    results=model(imgs_paths[i])\n",
    "    for p in range(0,len(results.pandas().xyxy[0])):\n",
    "        results_to_csv = results_to_csv.append(pd.DataFrame({\"x1\":[results.pandas().xyxy[0].at[p,\"xmin\"]],\"y1\":[results.pandas().xyxy[0].at[p,\"ymin\"]],\"x2\":[results.pandas().xyxy[0].at[p,\"xmin\"]],\"y2\":[results.pandas().xyxy[0].at[p,\"ymax\"]],\"x3\":[results.pandas().xyxy[0].at[p,\"xmax\"]],\"y3\":[results.pandas().xyxy[0].at[p,\"ymin\"]],\"x4\":[results.pandas().xyxy[0].at[p,\"xmax\"]],\"y4\":[results.pandas().xyxy[0].at[p,\"ymax\"]],\"xc\":[0],\"yc\":[0],\"object\":[results.pandas().xyxy[0].at[p,\"name\"]]},index=[imgs_names[i]]))\n",
    "    results_to_csv.loc[imgs_names[i],\"xc\"]=(results_to_csv.loc[imgs_names[i],\"x1\"]+results_to_csv.loc[imgs_names[i],\"x3\"])/2\n",
    "    results_to_csv.loc[imgs_names[i],\"yc\"]=(results_to_csv.loc[imgs_names[i],\"y1\"]+results_to_csv.loc[imgs_names[i],\"y2\"])/2\n",
    "    results_to_csv.x1 = results_to_csv.x1/width\n",
    "    results_to_csv.x2 = results_to_csv.x2/width\n",
    "    results_to_csv.x3 = results_to_csv.x3/width\n",
    "    results_to_csv.x4 = results_to_csv.x4/width\n",
    "    results_to_csv.xc = results_to_csv.xc/width\n",
    "    results_to_csv.y1 = results_to_csv.y1/height\n",
    "    results_to_csv.y2 = results_to_csv.y2/height\n",
    "    results_to_csv.y3 = results_to_csv.y3/height\n",
    "    results_to_csv.y4 = results_to_csv.y4/height\n",
    "    results_to_csv.yc = results_to_csv.yc/height\n",
    "    results_to_csv.to_csv(path_or_buf = img_dir+\"/results/\"+imgs_names[i]+ \"_normalized.csv\",index=False,header=False )\n",
    "    if(i==0 or i==100 or i==200 or i==300 or i==400 or i==700 or i==900):\n",
    "        print(i) #just for checking the progress"
   ]
  },
  {
   "cell_type": "markdown",
   "id": "e8159df6",
   "metadata": {},
   "source": [
    "Show the bounding box on chosen images - from CSVs from B.1"
   ]
  },
  {
   "cell_type": "code",
   "execution_count": 170,
   "id": "943c7624",
   "metadata": {},
   "outputs": [],
   "source": [
    "for img_name in imgs_names[0:40]:\n",
    "    image=cv2.imread(img_dir+'/'+img_name)\n",
    "    res=pd.read_csv(img_dir+\"/results/\"+img_name+\".csv\",index_col=False,names=[\"x1\",\"y1\",\"x2\",\"y2\",\"x3\",\"y3\",\"x4\",\"y4\",\"xc\",\"yc\",\"object\"])\n",
    "    for p in range(0,len(res)):\n",
    "        start_point=(int(res.at[p,\"x1\"]),int(res.at[p,\"y1\"]))\n",
    "        end_point=(int(res.at[p,\"x4\"]),int(res.at[p,\"y4\"]))\n",
    "        image=cv2.rectangle(image,start_point,end_point,(0,255,0),2)\n",
    "    cv2.imshow(img_name,image)\n",
    "    cv2.waitKey(0) \n",
    "cv2.destroyAllWindows() "
   ]
  },
  {
   "cell_type": "code",
   "execution_count": null,
   "id": "d7d79ad6",
   "metadata": {},
   "outputs": [],
   "source": []
  }
 ],
 "metadata": {
  "kernelspec": {
   "display_name": "Python 3",
   "language": "python",
   "name": "python3"
  },
  "language_info": {
   "codemirror_mode": {
    "name": "ipython",
    "version": 3
   },
   "file_extension": ".py",
   "mimetype": "text/x-python",
   "name": "python",
   "nbconvert_exporter": "python",
   "pygments_lexer": "ipython3",
   "version": "3.8.8"
  }
 },
 "nbformat": 4,
 "nbformat_minor": 5
}
